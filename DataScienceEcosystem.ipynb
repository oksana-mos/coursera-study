{
 "cells": [
  {
   "cell_type": "markdown",
   "id": "3320df3a-02f3-4875-8113-c5e493e6b103",
   "metadata": {},
   "source": [
    "# Data Science Tools and Ecosystem"
   ]
  },
  {
   "cell_type": "markdown",
   "id": "3d0cd7f9-22a6-412d-97ed-c4947a05b12d",
   "metadata": {},
   "source": [
    "In this notebook, Data Science Tools and Ecosystem are summarized."
   ]
  },
  {
   "cell_type": "markdown",
   "id": "ed6dad4c-2528-482d-96dc-e29408e4e32d",
   "metadata": {},
   "source": [
    "__Objectives:__\n",
    " - List popular languages for Data Science.\n",
    " - List popular libraries for Data Science.\n",
    " - List popular Data Science Tools.\n",
    " - Show a few examples of evaluating arithmetic expressions."
   ]
  },
  {
   "cell_type": "markdown",
   "id": "0eef3354-7884-4231-94e6-81dc4b04e0b9",
   "metadata": {},
   "source": [
    "Some of the popular languages that Data Scientists use are:\n",
    "1. Python\n",
    "2. R\n",
    "3. SQL"
   ]
  },
  {
   "cell_type": "markdown",
   "id": "32af9864-78f5-4e10-b974-1300cd13144f",
   "metadata": {},
   "source": [
    "Some of the commonly used libraries used by Data Scientists include:\n",
    "1. Pandas \n",
    "2. NumPy\n",
    "3. Matplotlib\n",
    "4. Seaborn\n",
    "5. Scikit-learn"
   ]
  },
  {
   "cell_type": "markdown",
   "id": "508df826-3adb-4a6d-9326-ed46eec664c5",
   "metadata": {},
   "source": [
    "|Data Science Tools|\n",
    "|:-----------------|\n",
    "|Jupiter           |\n",
    "|Jupiter Lab       |\n",
    "|RStudio           |"
   ]
  },
  {
   "cell_type": "markdown",
   "id": "1ecfdaa3-bc41-477f-b2c3-c5006237913e",
   "metadata": {},
   "source": [
    "### Below are a few examples of evaluating arithmetic expressions in Python."
   ]
  },
  {
   "cell_type": "code",
   "execution_count": 2,
   "id": "c43b2cdd-dfd0-45dc-9dff-6199d2804808",
   "metadata": {
    "tags": []
   },
   "outputs": [
    {
     "data": {
      "text/plain": [
       "17"
      ]
     },
     "execution_count": 2,
     "metadata": {},
     "output_type": "execute_result"
    }
   ],
   "source": [
    "# This a simple arithmetic expression to mutiply then add integers.\n",
    "\n",
    "(3*4)+5"
   ]
  },
  {
   "cell_type": "code",
   "execution_count": 4,
   "id": "8b16d6ab-faac-474f-9d7c-908a3c70ea4c",
   "metadata": {
    "tags": []
   },
   "outputs": [
    {
     "data": {
      "text/plain": [
       "3.3333333333333335"
      ]
     },
     "execution_count": 4,
     "metadata": {},
     "output_type": "execute_result"
    }
   ],
   "source": [
    "# This will convert 200 minutes to hours by diving by 60.\n",
    "\n",
    "200/60"
   ]
  },
  {
   "cell_type": "markdown",
   "id": "25ca7b67-6aca-4fd4-abe7-22bf08f0792e",
   "metadata": {},
   "source": [
    "## Author\n",
    "Oksana Moskalyuk"
   ]
  },
  {
   "cell_type": "code",
   "execution_count": null,
   "id": "b7b0116b-b5e5-49c8-bb74-0e8911b94b9c",
   "metadata": {},
   "outputs": [],
   "source": []
  }
 ],
 "metadata": {
  "kernelspec": {
   "display_name": "Python",
   "language": "python",
   "name": "conda-env-python-py"
  },
  "language_info": {
   "codemirror_mode": {
    "name": "ipython",
    "version": 3
   },
   "file_extension": ".py",
   "mimetype": "text/x-python",
   "name": "python",
   "nbconvert_exporter": "python",
   "pygments_lexer": "ipython3",
   "version": "3.7.12"
  }
 },
 "nbformat": 4,
 "nbformat_minor": 5
}
